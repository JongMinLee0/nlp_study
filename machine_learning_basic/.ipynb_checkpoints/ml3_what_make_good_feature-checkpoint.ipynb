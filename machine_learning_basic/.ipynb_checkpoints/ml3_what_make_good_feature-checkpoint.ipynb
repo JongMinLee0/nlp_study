{
 "cells": [
  {
   "cell_type": "markdown",
   "metadata": {},
   "source": [
    "## Example\n",
    "\n",
    "강아지 2종류를 분류하기\n",
    "- **키(height)**를 feature로 하여 비교\n",
    "- Random을 이용하여 편차를 만들었다.\n",
    "\n",
    "#### 분석\n",
    "1. 20cm의 case가 들어오면 **labs**라고 판단할 수 있다.\n",
    "2. 35cm의 case가 들어오면 **greyhounds**라고 판단할 수 있다.\n",
    "3. 25cm의 case가 들어오면 판단하기 힘들다.\n",
    "-> **키(height)** 는 유용한 특징이지만 완벽하지 않다.\n"
   ]
  },
  {
   "cell_type": "code",
   "execution_count": 1,
   "metadata": {},
   "outputs": [
    {
     "data": {
      "image/png": "[encoded data removed]",
      "text/plain": [
       "<Figure size 432x288 with 1 Axes>"
      ]
     },
     "metadata": {
      "needs_background": "light"
     },
     "output_type": "display_data"
    }
   ],
   "source": [
    "import numpy as np\n",
    "import matplotlib.pyplot as plt\n",
    "\n",
    "greyhounds = 500\n",
    "labs = 500\n",
    "\n",
    "grey_height = 28 + 4 * np.random.randn(greyhounds)\n",
    "lab_height = 24 + 4 * np.random.randn(labs)\n",
    "\n",
    "plt.hist([grey_height, lab_height], stacked=True, color=['r', 'b'])\n",
    "plt.show()\n"
   ]
  },
  {
   "cell_type": "markdown",
   "metadata": {},
   "source": [
    "## feature\n",
    "\n",
    "1. Avoid useless features\n",
    "    - 개의 키를 inch와 cm를 나눠서 하는 것은 무의미 하다.\n",
    "    - feature는 다른 feature에 대해 독립적이어야 한다.\n",
    "2. Feature should be easy to understand\n",
    "    - 거리를 계산할 때 단순 길이와 좌표로 계산하는 것은 차이가 있다.\n",
    "    - 이해하기 쉬운 feature가 학습이 더욱 잘된다."
   ]
  },
  {
   "cell_type": "code",
   "execution_count": null,
   "metadata": {},
   "outputs": [],
   "source": []
  }
 ],
 "metadata": {
  "kernelspec": {
   "display_name": "Python 3",
   "language": "python",
   "name": "python3"
  },
  "language_info": {
   "codemirror_mode": {
    "name": "ipython",
    "version": 3
   },
   "file_extension": ".py",
   "mimetype": "text/x-python",
   "name": "python",
   "nbconvert_exporter": "python",
   "pygments_lexer": "ipython3",
   "version": "3.8.3"
  }
 },
 "nbformat": 4,
 "nbformat_minor": 4
}
