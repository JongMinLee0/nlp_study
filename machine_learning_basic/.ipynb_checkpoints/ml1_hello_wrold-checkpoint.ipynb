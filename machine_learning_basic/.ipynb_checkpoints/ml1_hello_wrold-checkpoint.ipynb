{
 "cells": [
  {
   "cell_type": "markdown",
   "metadata": {},
   "source": [
    "## Machine Learning\n",
    "Learn from examples and experience\n",
    "\n",
    "\n",
    "### Supervised Learning Recipe\n",
    "1. Collect Training Data\n",
    "    - 학습 데이터가 많을 수록 더 좋은 분류자(Classifier)가 만들어 진다.\n",
    "2. Train Classifier\n",
    "3. Make Predictions"
   ]
  },
  {
   "cell_type": "code",
   "execution_count": 1,
   "metadata": {
    "scrolled": true
   },
   "outputs": [
    {
     "name": "stdout",
     "output_type": "stream",
     "text": [
      "[1]\n"
     ]
    }
   ],
   "source": [
    "import sklearn\n",
    "from sklearn import tree\n",
    "\n",
    "# feature = bumpy : 0, smooth : 1\n",
    "# label = apple : 0, orange : 1\n",
    "features = [[140, 1], [130, 1],[150, 0], [170, 0]]\n",
    "labels = [0, 0, 1, 1]\n",
    "\n",
    "clf = tree.DecisionTreeClassifier()\n",
    "clf = clf.fit(features, labels)\n",
    "\n",
    "print (clf.predict([[150, 0]]))"
   ]
  }
 ],
 "metadata": {
  "kernelspec": {
   "display_name": "Python 3",
   "language": "python",
   "name": "python3"
  },
  "language_info": {
   "codemirror_mode": {
    "name": "ipython",
    "version": 3
   },
   "file_extension": ".py",
   "mimetype": "text/x-python",
   "name": "python",
   "nbconvert_exporter": "python",
   "pygments_lexer": "ipython3",
   "version": "3.8.3"
  }
 },
 "nbformat": 4,
 "nbformat_minor": 4
}
